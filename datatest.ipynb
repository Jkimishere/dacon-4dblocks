{
 "cells": [
  {
   "cell_type": "code",
   "execution_count": 7,
   "metadata": {},
   "outputs": [
    {
     "name": "stdout",
     "output_type": "stream",
     "text": [
      "2412\n",
      "2798\n",
      "3564\n",
      "3638\n",
      "3978\n",
      "3928\n",
      "3974\n",
      "4410\n",
      "4282\n",
      "4362\n"
     ]
    }
   ],
   "source": [
    "import pandas as pd\n",
    "import random\n",
    "df = pd.read_csv('data/train.csv')\n",
    "\n",
    "\n",
    "\n",
    "def count(df,name):\n",
    "    zeros = 0\n",
    "    ones = 0\n",
    "    for index, row in df.iterrows():\n",
    "        if row[name] == 0:\n",
    "            zeros += 1\n",
    "        else:\n",
    "            ones += 1\n",
    "\n",
    "    print(zeros - ones)\n",
    "\n",
    "full_df = pd.read_csv('data/train.csv')\n",
    "full_df.sample(frac=1,ignore_index=True)\n",
    "train_df = full_df[0:int(len(full_df) * 0.9)]\n",
    "\n",
    "for i in list('ABCDEFGHIJ'):\n",
    "    count(train_df, i)\n",
    "\n",
    "\n",
    "# rand = df.query('A == 1').sample(n = 3932)\n",
    "\n",
    "# df = pd.concat([df, rand],ignore_index=True)\n",
    "\n",
    "# count(df)\n",
    "# df.to_csv('datatest.csv')\n",
    "\n"
   ]
  },
  {
   "cell_type": "code",
   "execution_count": null,
   "metadata": {},
   "outputs": [],
   "source": []
  }
 ],
 "metadata": {
  "kernelspec": {
   "display_name": "venv",
   "language": "python",
   "name": "python3"
  },
  "language_info": {
   "codemirror_mode": {
    "name": "ipython",
    "version": 3
   },
   "file_extension": ".py",
   "mimetype": "text/x-python",
   "name": "python",
   "nbconvert_exporter": "python",
   "pygments_lexer": "ipython3",
   "version": "3.10.0"
  },
  "orig_nbformat": 4,
  "vscode": {
   "interpreter": {
    "hash": "2987ee7c134ea6138751327a8ac6101962cc5348ca3cf955c8c81424b6ce85a0"
   }
  }
 },
 "nbformat": 4,
 "nbformat_minor": 2
}
